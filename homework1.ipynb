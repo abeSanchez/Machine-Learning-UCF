{
  "nbformat": 4,
  "nbformat_minor": 0,
  "metadata": {
    "colab": {
      "name": "machine_learning_hw1.ipynb",
      "version": "0.3.2",
      "provenance": [],
      "collapsed_sections": [],
      "include_colab_link": true
    },
    "kernelspec": {
      "name": "python3",
      "display_name": "Python 3"
    },
    "accelerator": "GPU"
  },
  "cells": [
    {
      "cell_type": "markdown",
      "metadata": {
        "id": "view-in-github",
        "colab_type": "text"
      },
      "source": [
        "<a href=\"https://colab.research.google.com/github/abeSanchez/Machine-Learning-UCF/blob/master/homework1.ipynb\" target=\"_parent\"><img src=\"https://colab.research.google.com/assets/colab-badge.svg\" alt=\"Open In Colab\"/></a>"
      ]
    },
    {
      "metadata": {
        "id": "Rey980t7ipsI",
        "colab_type": "text"
      },
      "cell_type": "markdown",
      "source": [
        "# Machine Learning Homework 1\n",
        "## Abraham Sanchez"
      ]
    },
    {
      "metadata": {
        "id": "GQSB4xJDjnjx",
        "colab_type": "code",
        "outputId": "279c3789-db06-4a03-f03c-6a49dc218c43",
        "colab": {
          "base_uri": "https://localhost:8080/",
          "height": 69
        }
      },
      "cell_type": "code",
      "source": [
        "import keras\n",
        "import numpy as np\n",
        "import matplotlib.pyplot as plt\n",
        "from keras.datasets import mnist\n",
        "from keras.utils import to_categorical\n",
        "from keras import models\n",
        "from keras import layers\n",
        "%matplotlib inline\n",
        "\n",
        "(x_train, y_train), (x_test, y_test) = mnist.load_data()"
      ],
      "execution_count": 1,
      "outputs": [
        {
          "output_type": "stream",
          "text": [
            "Using TensorFlow backend.\n"
          ],
          "name": "stderr"
        },
        {
          "output_type": "stream",
          "text": [
            "Downloading data from https://s3.amazonaws.com/img-datasets/mnist.npz\n",
            "11493376/11490434 [==============================] - 1s 0us/step\n"
          ],
          "name": "stdout"
        }
      ]
    },
    {
      "metadata": {
        "id": "rX0f9KgYnd7Z",
        "colab_type": "text"
      },
      "cell_type": "markdown",
      "source": [
        "### Functions for activation, loss and gradients"
      ]
    },
    {
      "metadata": {
        "id": "ZfKZo3xkjpk6",
        "colab_type": "code",
        "colab": {}
      },
      "cell_type": "code",
      "source": [
        "def sigmoid(z):\n",
        "  return 1.0 / (1.0 + np.exp(-z))\n",
        "\n",
        "def sigmoid_prime(z):\n",
        "  sz = sigmoid(z)\n",
        "  return sz * (1 - sz)\n",
        "\n",
        "def se_loss(a, y):\n",
        "  return 0.5 * (a - y) ** 2\n",
        "\n",
        "def se_gradient(a, x, y):\n",
        "  return (a - y) * sigmoid_prime(a) * x\n",
        "\n",
        "def bce_loss(a, y):\n",
        "  return -y * np.log10(a + 1e-9) - (1 - y) * np.log10(1 - a + 1e-9)\n",
        "\n",
        "def bce_gradient(a, x, y):\n",
        "  return (a - y) * x\n",
        "\n",
        "def cce_loss(a, y):\n",
        "  return -np.sum(y * np.log10(a + 1e-9))\n",
        "\n",
        "def cce_gradient(a, x, y):\n",
        "  return (a - y) * x\n",
        "\n",
        "def softmax(z):\n",
        "  exps = np.exp(z - np.max(z))\n",
        "  return exps / np.sum(exps)"
      ],
      "execution_count": 0,
      "outputs": []
    },
    {
      "metadata": {
        "id": "ctakM-c8nmwY",
        "colab_type": "text"
      },
      "cell_type": "markdown",
      "source": [
        "### MNIST data preprocessing"
      ]
    },
    {
      "metadata": {
        "id": "mTjCuKfTS8rw",
        "colab_type": "code",
        "colab": {}
      },
      "cell_type": "code",
      "source": [
        "# Flatten images and apply feature scaling\n",
        "flat_x_train = x_train.reshape(60000, 28 * 28) / 255\n",
        "flat_x_test = x_test.reshape(10000, 28 * 28) / 255"
      ],
      "execution_count": 0,
      "outputs": []
    },
    {
      "metadata": {
        "id": "pTN2hv9DfGFo",
        "colab_type": "code",
        "colab": {}
      },
      "cell_type": "code",
      "source": [
        "# Create new array for labels for each digit\n",
        "y_train_single_digit = {}\n",
        "y_test_single_digit = {}\n",
        "\n",
        "for i in range(10):\n",
        "  y_train_single_digit[i] = y_train == i\n",
        "  y_train_single_digit[i] = y_train_single_digit[i].astype(int)\n",
        "  y_test_single_digit[i] = y_test == i\n",
        "  y_test_single_digit[i] = y_test_single_digit[i].astype(int)"
      ],
      "execution_count": 0,
      "outputs": []
    },
    {
      "metadata": {
        "id": "jPICfylNcgU7",
        "colab_type": "code",
        "colab": {}
      },
      "cell_type": "code",
      "source": [
        "# One hot encoding for labels\n",
        "y_train_cat = to_categorical(y_train)\n",
        "y_test_cat = to_categorical(y_test)"
      ],
      "execution_count": 0,
      "outputs": []
    },
    {
      "metadata": {
        "id": "-2HXRQsAnv68",
        "colab_type": "text"
      },
      "cell_type": "markdown",
      "source": [
        "### Setting up weights for problems 1 - 3"
      ]
    },
    {
      "metadata": {
        "id": "xqTuQWJnewgM",
        "colab_type": "code",
        "colab": {}
      },
      "cell_type": "code",
      "source": [
        "# Create dictionaries for storing the weights\n",
        "w_mse = {}\n",
        "w_bce = {}\n",
        "\n",
        "for i in range(10):\n",
        "  w_mse[i] = (np.random.rand(28 * 28, 1).reshape((784,)) - 0.5, np.random.rand(1))\n",
        "  w_bce[i] = (np.random.rand(28 * 28, 1).reshape((784,)) - 0.5, np.random.rand(1))\n",
        "  \n",
        "w_cce = np.random.rand(28 * 28 * 10, 1).reshape((784,10)) - 0.5 \n",
        "w_cce_b = np.random.rand(10, 1)"
      ],
      "execution_count": 0,
      "outputs": []
    },
    {
      "metadata": {
        "id": "BLoi3gHPd7l7",
        "colab_type": "text"
      },
      "cell_type": "markdown",
      "source": [
        "# Problem 1\n",
        "## Using logistic regression with mean squared error loss"
      ]
    },
    {
      "metadata": {
        "id": "7NlWsML03MZf",
        "colab_type": "text"
      },
      "cell_type": "markdown",
      "source": [
        "### Training the classifiers"
      ]
    },
    {
      "metadata": {
        "id": "2SFn2628XuXb",
        "colab_type": "code",
        "colab": {}
      },
      "cell_type": "code",
      "source": [
        "epochs = 20\n",
        "lr = 0.05\n",
        "batch_size = 32\n",
        "accuracy = []\n",
        "loss = []\n",
        "\n",
        "for digit in range(10):\n",
        "  accuracy.append([])\n",
        "  loss.append([])\n",
        "  \n",
        "  for epoch in range(epochs):\n",
        "    shuffled_indices = np.random.permutation(len(flat_x_train))\n",
        "    flat_x_train_shuffled = flat_x_train[shuffled_indices]\n",
        "    y_train_single_digit_shuffled = y_train_single_digit[digit][shuffled_indices]\n",
        "    \n",
        "    correct = 0\n",
        "    loss_epoch = 0\n",
        "    \n",
        "    for i in range(0, len(flat_x_train), batch_size):\n",
        "      xi = flat_x_train_shuffled[i:i+batch_size]\n",
        "      yi = y_train_single_digit_shuffled[i:i+batch_size].reshape(32,1)\n",
        "      \n",
        "      z = xi.dot(w_mse[digit][0]) + w_mse[digit][1]\n",
        "      a = sigmoid(z).reshape(32,1)\n",
        "      \n",
        "      correct += np.sum(np.round(a).astype(int) == yi)\n",
        "      loss_epoch += np.sum(se_loss(a, yi))\n",
        "      \n",
        "      gradient = np.sum(se_gradient(a, xi, yi), axis=0) / batch_size\n",
        "      gradient_b = np.sum(se_gradient(a, 1, yi), axis=0) / batch_size\n",
        "      w_mse[digit] = (w_mse[digit][0] - lr * gradient, w_mse[digit][1] - lr * gradient_b)\n",
        "    \n",
        "    accuracy_epoch = correct / len(flat_x_train)\n",
        "    loss_epoch /= len(flat_x_train)\n",
        "    \n",
        "    accuracy[digit].append(accuracy_epoch)\n",
        "    loss[digit].append(loss_epoch)"
      ],
      "execution_count": 0,
      "outputs": []
    },
    {
      "metadata": {
        "id": "P8qfh7xa1E8Y",
        "colab_type": "text"
      },
      "cell_type": "markdown",
      "source": [
        "### Visualizing training accuracy and loss"
      ]
    },
    {
      "metadata": {
        "id": "OwIBdX5l1DBj",
        "colab_type": "code",
        "outputId": "e8799ba3-fad5-4e46-9d18-5e5d0f56d859",
        "colab": {
          "base_uri": "https://localhost:8080/",
          "height": 873
        }
      },
      "cell_type": "code",
      "source": [
        "training_plots = {}\n",
        "\n",
        "plt.figure(figsize=(10,12))\n",
        "\n",
        "for digit in range(10):\n",
        "  training_plots[digit] = plt.subplot2grid((5, 2), (int(digit / 2), digit % 2), rowspan=1, colspan=1)\n",
        "\n",
        "for digit in range(10):\n",
        "  ax1 = training_plots[digit]\n",
        "  ax1.set_title(\"Classifier \" + str(digit) + \" Training\", fontweight='bold')\n",
        "  ax1.set_xlabel('Epochs')\n",
        "  ax1.plot(range(len(accuracy[digit])), accuracy[digit], '#2EC9C4', ls=' ', marker='o')\n",
        "  ax1.set_ylabel('Accuracy', color='#2EC9C4')\n",
        "  ax1.tick_params('y', colors='#2EC9C4')\n",
        "  ax1.grid(False)\n",
        "  ax1.set_facecolor('#F7F7F7')\n",
        "  \n",
        "  ax2 = ax1.twinx()\n",
        "  ax2.plot(range(len(loss[digit])), loss[digit], '#FF6B6B', ls=' ', marker='o')\n",
        "  ax2.set_ylabel('Loss', color='#FF6B6B')\n",
        "  ax2.tick_params('y', colors='#FF6B6B')\n",
        "  ax2.grid(False)\n",
        "  \n",
        "plt.tight_layout()"
      ],
      "execution_count": 0,
      "outputs": [
        {
          "output_type": "display_data",
          "data": {
            "image/png": "[encoded data removed]",
            "text/plain": [
              "<Figure size 720x864 with 20 Axes>"
            ]
          },
          "metadata": {
            "tags": []
          }
        }
      ]
    },
    {
      "metadata": {
        "id": "8JdkKd5B3RUX",
        "colab_type": "text"
      },
      "cell_type": "markdown",
      "source": [
        "### Testing the classifiers on test data"
      ]
    },
    {
      "metadata": {
        "id": "4E9KZXYSXXBk",
        "colab_type": "code",
        "outputId": "e7fd01e1-4e41-4240-ef65-ff0a53b7be5f",
        "colab": {
          "base_uri": "https://localhost:8080/",
          "height": 190
        }
      },
      "cell_type": "code",
      "source": [
        "for digit in range(10):\n",
        "  loss = 0\n",
        "  correct = 0\n",
        "\n",
        "  for example in range(len(flat_x_test)):\n",
        "      z = flat_x_test[example].dot(w_mse[digit][0]) + w_mse[digit][1]\n",
        "      a = sigmoid(z)\n",
        "      prediction = int(round(a[0]))\n",
        "      loss += se_loss(prediction, y_test_single_digit[digit][example])\n",
        "      correct += 1 if y_test_single_digit[digit][example] == prediction else 0\n",
        "        \n",
        "  loss /= len(flat_x_test)\n",
        "  accuracy = correct / len(flat_x_test)\n",
        "  print(\"Classifier \" + str(digit) + \" | loss: \" + str(loss) + \" - accuracy: \" + str(accuracy))"
      ],
      "execution_count": 0,
      "outputs": [
        {
          "output_type": "stream",
          "text": [
            "Classifier 0 | loss: 0.0043 - accuracy: 0.9914\n",
            "Classifier 1 | loss: 0.00365 - accuracy: 0.9927\n",
            "Classifier 2 | loss: 0.01045 - accuracy: 0.9791\n",
            "Classifier 3 | loss: 0.01205 - accuracy: 0.9759\n",
            "Classifier 4 | loss: 0.0104 - accuracy: 0.9792\n",
            "Classifier 5 | loss: 0.01455 - accuracy: 0.9709\n",
            "Classifier 6 | loss: 0.0073 - accuracy: 0.9854\n",
            "Classifier 7 | loss: 0.00775 - accuracy: 0.9845\n",
            "Classifier 8 | loss: 0.0202 - accuracy: 0.9596\n",
            "Classifier 9 | loss: 0.0182 - accuracy: 0.9636\n"
          ],
          "name": "stdout"
        }
      ]
    },
    {
      "metadata": {
        "id": "n8KzgR67KxLZ",
        "colab_type": "text"
      },
      "cell_type": "markdown",
      "source": [
        "### Using all classifiers to perform digit classification on test data"
      ]
    },
    {
      "metadata": {
        "id": "7vYfgNIFLIh8",
        "colab_type": "code",
        "outputId": "576138fe-4f8f-4c1a-b4bd-c0bee7974301",
        "colab": {
          "base_uri": "https://localhost:8080/",
          "height": 34
        }
      },
      "cell_type": "code",
      "source": [
        "correct = 0\n",
        "\n",
        "for example in range(len(flat_x_test)):\n",
        "  y_predict = np.array([])  \n",
        "  \n",
        "  for classifier in range(10):\n",
        "    z = flat_x_test[example].dot(w_mse[classifier][0]) + w_mse[classifier][1]\n",
        "    a = sigmoid(z)\n",
        "    y_predict = np.append(y_predict, a)\n",
        "    \n",
        "  correct += 1 if np.argmax(y_predict) == y_test[example] else 0\n",
        "\n",
        "    \n",
        "print(\"Accuracy on test data : \" + str(correct / len(flat_x_test)))"
      ],
      "execution_count": 0,
      "outputs": [
        {
          "output_type": "stream",
          "text": [
            "Accuracy on test data : 0.9124\n"
          ],
          "name": "stdout"
        }
      ]
    },
    {
      "metadata": {
        "id": "w9vjKOevBzn7",
        "colab_type": "text"
      },
      "cell_type": "markdown",
      "source": [
        "# Problem 2\n",
        "## Using logistic regression with binary cross entropy loss"
      ]
    },
    {
      "metadata": {
        "id": "sgfo_Ou7CHFo",
        "colab_type": "text"
      },
      "cell_type": "markdown",
      "source": [
        "### Training the classifiers"
      ]
    },
    {
      "metadata": {
        "id": "ndVlQ-TPCAgb",
        "colab_type": "code",
        "colab": {}
      },
      "cell_type": "code",
      "source": [
        "epochs = 20\n",
        "lr = 0.05\n",
        "batch_size = 32\n",
        "accuracy = []\n",
        "loss = []\n",
        "\n",
        "for digit in range(10):\n",
        "  accuracy.append([])\n",
        "  loss.append([])\n",
        "  \n",
        "  for epoch in range(epochs):\n",
        "    shuffled_indices = np.random.permutation(len(flat_x_train))\n",
        "    flat_x_train_shuffled = flat_x_train[shuffled_indices]\n",
        "    y_train_single_digit_shuffled = y_train_single_digit[digit][shuffled_indices]\n",
        "    \n",
        "    correct = 0\n",
        "    loss_epoch = 0\n",
        "    \n",
        "    for i in range(0, len(flat_x_train), batch_size):\n",
        "      xi = flat_x_train_shuffled[i:i+batch_size]\n",
        "      yi = y_train_single_digit_shuffled[i:i+batch_size].reshape(32,1)\n",
        "      \n",
        "      z = xi.dot(w_bce[digit][0]) + w_bce[digit][1]\n",
        "      a = sigmoid(z).reshape(32,1)\n",
        "      \n",
        "      correct += np.sum(np.round(a).astype(int) == yi)\n",
        "      loss_epoch += np.sum(bce_loss(a, yi))\n",
        "      \n",
        "      gradient = np.sum(bce_gradient(a, xi, yi), axis=0) / batch_size\n",
        "      gradient_b = np.sum(bce_gradient(a, 1, yi), axis=0) / batch_size\n",
        "      w_bce[digit] = (w_bce[digit][0] - lr * gradient, w_bce[digit][1] - lr * gradient_b)\n",
        "      \n",
        "    accuracy_epoch = correct / len(flat_x_train)\n",
        "    loss_epoch /= len(flat_x_train)\n",
        "    \n",
        "    accuracy[digit].append(accuracy_epoch)\n",
        "    loss[digit].append(loss_epoch)"
      ],
      "execution_count": 0,
      "outputs": []
    },
    {
      "metadata": {
        "id": "nIdmj-vKJtUB",
        "colab_type": "text"
      },
      "cell_type": "markdown",
      "source": [
        "### Visualizing training accuracy and loss"
      ]
    },
    {
      "metadata": {
        "id": "_lWnKZ9tJyr_",
        "colab_type": "code",
        "outputId": "6b009a50-4cea-44b1-d8fe-197e96f7d2ad",
        "colab": {
          "base_uri": "https://localhost:8080/",
          "height": 873
        }
      },
      "cell_type": "code",
      "source": [
        "training_plots = {}\n",
        "\n",
        "plt.figure(figsize=(10,12))\n",
        "\n",
        "for digit in range(10):\n",
        "  training_plots[digit] = plt.subplot2grid((5, 2), (int(digit / 2), digit % 2), rowspan=1, colspan=1)\n",
        "\n",
        "for digit in range(10):\n",
        "  ax1 = training_plots[digit]\n",
        "  ax1.set_title(\"Classifier \" + str(digit) + \" Training\", fontweight='bold')\n",
        "  ax1.set_xlabel('Epochs')\n",
        "  ax1.plot(range(len(accuracy[digit])), accuracy[digit], '#2EC9C4', ls=' ', marker='o')\n",
        "  ax1.set_ylabel('Accuracy', color='#2EC9C4')\n",
        "  ax1.tick_params('y', colors='#2EC9C4')\n",
        "  ax1.grid(False)\n",
        "  ax1.set_facecolor('#F7F7F7')\n",
        "  \n",
        "  ax2 = ax1.twinx()\n",
        "  ax2.plot(range(len(loss[digit])), loss[digit], '#FF6B6B', ls=' ', marker='o')\n",
        "  ax2.set_ylabel('Loss', color='#FF6B6B')\n",
        "  ax2.tick_params('y', colors='#FF6B6B')\n",
        "  ax2.grid(False)\n",
        "  \n",
        "plt.tight_layout()"
      ],
      "execution_count": 8,
      "outputs": [
        {
          "output_type": "display_data",
          "data": {
            "image/png": "[encoded data removed]",
            "text/plain": [
              "<Figure size 720x864 with 20 Axes>"
            ]
          },
          "metadata": {
            "tags": []
          }
        }
      ]
    },
    {
      "metadata": {
        "id": "sZMtpc2xCKqf",
        "colab_type": "text"
      },
      "cell_type": "markdown",
      "source": [
        "### Testing the classifiers on test data"
      ]
    },
    {
      "metadata": {
        "id": "tKl2vlTMCM4x",
        "colab_type": "code",
        "outputId": "3d40f7e1-7243-4f8b-a183-3f0e14278fcc",
        "colab": {
          "base_uri": "https://localhost:8080/",
          "height": 190
        }
      },
      "cell_type": "code",
      "source": [
        "for digit in range(10):\n",
        "  loss = 0\n",
        "  correct = 0\n",
        "  \n",
        "  for example in range(len(flat_x_test)):\n",
        "      z = flat_x_test[example].dot(w_bce[digit][0]) + w_bce[digit][1]\n",
        "      a = sigmoid(z)\n",
        "      prediction = int(round(a[0]))\n",
        "      loss += bce_loss(prediction, y_test_single_digit[digit][example])\n",
        "      correct += 1 if y_test_single_digit[digit][example] == prediction else 0\n",
        "        \n",
        "  loss /= len(flat_x_test)\n",
        "  accuracy = correct / len(flat_x_test)\n",
        "  print(\"Classifier \" + str(digit) + \" | loss: \" + str(loss) + \" - accuracy: \" + str(accuracy))"
      ],
      "execution_count": 9,
      "outputs": [
        {
          "output_type": "stream",
          "text": [
            "Classifier 0 | loss: 0.07469999956931857 - accuracy: 0.9917\n",
            "Classifier 1 | loss: 0.05759999956849324 - accuracy: 0.9936\n",
            "Classifier 2 | loss: 0.18629999957470536 - accuracy: 0.9793\n",
            "Classifier 3 | loss: 0.20069999957540008 - accuracy: 0.9777\n",
            "Classifier 4 | loss: 0.16469999957366271 - accuracy: 0.9817\n",
            "Classifier 5 | loss: 0.21779999957622503 - accuracy: 0.9758\n",
            "Classifier 6 | loss: 0.11609999957131727 - accuracy: 0.9871\n",
            "Classifier 7 | loss: 0.13229999957209942 - accuracy: 0.9853\n",
            "Classifier 8 | loss: 0.3500999995826093 - accuracy: 0.9611\n",
            "Classifier 9 | loss: 0.3050999995804378 - accuracy: 0.9661\n"
          ],
          "name": "stdout"
        }
      ]
    },
    {
      "metadata": {
        "id": "-x4g1xP5SyFl",
        "colab_type": "text"
      },
      "cell_type": "markdown",
      "source": [
        "### Using all classifiers to perform digit classification on test data"
      ]
    },
    {
      "metadata": {
        "id": "UnYABWJRNcOA",
        "colab_type": "code",
        "outputId": "30fd3a72-6380-4207-bab3-17273f9e897f",
        "colab": {
          "base_uri": "https://localhost:8080/",
          "height": 34
        }
      },
      "cell_type": "code",
      "source": [
        "correct = 0\n",
        "\n",
        "for example in range(len(flat_x_test)):\n",
        "  y_predict = np.array([])  \n",
        "  \n",
        "  for classifier in range(10):\n",
        "    z = flat_x_test[example].dot(w_bce[classifier][0]) + w_bce[classifier][1]\n",
        "    a = sigmoid(z)\n",
        "    y_predict = np.append(y_predict, a)\n",
        "    \n",
        "  correct += 1 if np.argmax(y_predict) == y_test[example] else 0\n",
        "    \n",
        "print(\"Accuracy on test data : \" + str(correct / len(flat_x_test)))"
      ],
      "execution_count": 10,
      "outputs": [
        {
          "output_type": "stream",
          "text": [
            "Accuracy on test data : 0.9163\n"
          ],
          "name": "stdout"
        }
      ]
    },
    {
      "metadata": {
        "id": "-MPpVabKIrw4",
        "colab_type": "text"
      },
      "cell_type": "markdown",
      "source": [
        "# Problem 3\n",
        "## Using softmax and categorical cross entropy loss"
      ]
    },
    {
      "metadata": {
        "id": "vkH4UbGbAjqb",
        "colab_type": "text"
      },
      "cell_type": "markdown",
      "source": [
        "### Training the network"
      ]
    },
    {
      "metadata": {
        "id": "Hk9yjm08yoYb",
        "colab_type": "code",
        "colab": {}
      },
      "cell_type": "code",
      "source": [
        "epochs = 20\n",
        "lr = 0.01\n",
        "batch_size = 32\n",
        "accuracy = []\n",
        "loss = []\n",
        "\n",
        "for epoch in range(epochs):\n",
        "  shuffled_indices = np.random.permutation(len(flat_x_train))\n",
        "  flat_x_train_shuffled = flat_x_train[shuffled_indices]\n",
        "  y_train_shuffled = y_train_cat[shuffled_indices]\n",
        "  loss_epoch = 0\n",
        "  correct = 0\n",
        "  \n",
        "  for i in range(0, len(flat_x_train), batch_size):\n",
        "    xi = flat_x_train_shuffled[i:i+batch_size]\n",
        "    yi = y_train_shuffled[i:i+batch_size]\n",
        "      \n",
        "    for j in range(batch_size):\n",
        "      z = xi[j].dot(w_cce).reshape(10,1) + w_cce_b.reshape(10,1)\n",
        "      a = softmax(z)\n",
        "      \n",
        "      loss_epoch += cce_loss(a, yi[j].reshape(10,1))\n",
        "      correct += 1 if np.argmax(a) == np.argmax(yi[j]) else 0\n",
        "      \n",
        "      gradient_j = cce_gradient(a, xi[j], yi[j].reshape(10,1)) \n",
        "      gradient_b_j = cce_gradient(a, 1, yi[j].reshape(10,1)) \n",
        "      \n",
        "      gradient = gradient_j if j == 0 else gradient + gradient_j\n",
        "      gradient_b = gradient_b if j == 0 else gradient_b + gradient_b_j\n",
        "    \n",
        "    gradient = gradient / batch_size\n",
        "    gradient_b = gradient_b / batch_size\n",
        "\n",
        "    w_cce = w_cce - lr * gradient.T\n",
        "    w_cce_b = w_cce_b - lr * gradient_b\n",
        "    \n",
        "  loss.append(loss_epoch / len(flat_x_train))\n",
        "  accuracy.append(correct / len(flat_x_train))"
      ],
      "execution_count": 0,
      "outputs": []
    },
    {
      "metadata": {
        "id": "19BDBqzfU2cT",
        "colab_type": "text"
      },
      "cell_type": "markdown",
      "source": [
        "### Visualizing training accuracy and loss"
      ]
    },
    {
      "metadata": {
        "id": "gi1AMHvCU-jj",
        "colab_type": "code",
        "outputId": "04a1efb6-abd9-44aa-e54e-4e6fe37e25c5",
        "colab": {
          "base_uri": "https://localhost:8080/",
          "height": 314
        }
      },
      "cell_type": "code",
      "source": [
        "training_plots = {}\n",
        "\n",
        "plt.figure(figsize=(10,12))\n",
        "\n",
        "fig, ax1 = plt.subplots()\n",
        "ax1.set_title(\"Network Training\", fontweight='bold')\n",
        "ax1.set_xlabel('Epochs')\n",
        "ax1.plot(range(len(accuracy)), accuracy, '#2EC9C4', ls=' ', marker='o')\n",
        "ax1.set_ylabel('Accuracy', color='#2EC9C4')\n",
        "ax1.tick_params('y', colors='#2EC9C4')\n",
        "ax1.grid(False)\n",
        "ax1.set_facecolor('#F7F7F7')\n",
        "\n",
        "ax2 = ax1.twinx()\n",
        "ax2.plot(range(len(loss)), loss, '#FF6B6B', ls=' ', marker='o')\n",
        "ax2.set_ylabel('Loss', color='#FF6B6B')\n",
        "ax2.tick_params('y', colors='#FF6B6B')\n",
        "ax2.grid(False)\n",
        "  \n",
        "plt.tight_layout()"
      ],
      "execution_count": 0,
      "outputs": [
        {
          "output_type": "display_data",
          "data": {
            "text/plain": [
              "<Figure size 720x864 with 0 Axes>"
            ]
          },
          "metadata": {
            "tags": []
          }
        },
        {
          "output_type": "display_data",
          "data": {
            "image/png": "[encoded data removed]",
            "text/plain": [
              "<Figure size 432x288 with 2 Axes>"
            ]
          },
          "metadata": {
            "tags": []
          }
        }
      ]
    },
    {
      "metadata": {
        "id": "3Gld87G37lsg",
        "colab_type": "text"
      },
      "cell_type": "markdown",
      "source": [
        "### Testing the network on test data"
      ]
    },
    {
      "metadata": {
        "id": "ppnIzORwxrGJ",
        "colab_type": "code",
        "outputId": "e0b2959c-f05f-4f3e-fd74-e8a30c1c049d",
        "colab": {
          "base_uri": "https://localhost:8080/",
          "height": 34
        }
      },
      "cell_type": "code",
      "source": [
        "loss = 0\n",
        "correct = 0\n",
        "\n",
        "for example in range(len(flat_x_test)):\n",
        "  z = flat_x_test[example].dot(w_cce).reshape(10,1) + w_cce_b.reshape(10,1)\n",
        "  y_predict = softmax(z)\n",
        "  correct += 1 if np.argmax(y_predict) == y_test[example] else 0\n",
        "  loss += cce_loss(y_predict, y_test_cat[example].reshape(10,1))\n",
        "\n",
        "loss /= len(flat_x_test)\n",
        "accuracy = correct / len(flat_x_test)\n",
        "print(\"loss: \" + str(loss) + \" - accuracy: \" + str(accuracy))"
      ],
      "execution_count": 0,
      "outputs": [
        {
          "output_type": "stream",
          "text": [
            "loss: 0.13311769081136274 - accuracy: 0.9108\n"
          ],
          "name": "stdout"
        }
      ]
    },
    {
      "metadata": {
        "id": "JtnARSOKJQBU",
        "colab_type": "text"
      },
      "cell_type": "markdown",
      "source": [
        "# Problem 4\n",
        "## Reimplementing the network from Problem 3 entirely in Keras"
      ]
    },
    {
      "metadata": {
        "id": "P8WcVhM-AwS9",
        "colab_type": "text"
      },
      "cell_type": "markdown",
      "source": [
        "### Setting up the network architecture"
      ]
    },
    {
      "metadata": {
        "id": "rkGQoJokgnm4",
        "colab_type": "code",
        "outputId": "5f5bb4db-e67a-4929-bc06-520c268ed222",
        "colab": {
          "base_uri": "https://localhost:8080/",
          "height": 245
        }
      },
      "cell_type": "code",
      "source": [
        "network = models.Sequential()\n",
        "network.add(layers.Dense(10, activation='softmax', input_shape=(28 * 28,)))\n",
        "network.summary()"
      ],
      "execution_count": 0,
      "outputs": [
        {
          "output_type": "stream",
          "text": [
            "WARNING:tensorflow:From /usr/local/lib/python3.6/dist-packages/tensorflow/python/framework/op_def_library.py:263: colocate_with (from tensorflow.python.framework.ops) is deprecated and will be removed in a future version.\n",
            "Instructions for updating:\n",
            "Colocations handled automatically by placer.\n",
            "_________________________________________________________________\n",
            "Layer (type)                 Output Shape              Param #   \n",
            "=================================================================\n",
            "dense_1 (Dense)              (None, 10)                7850      \n",
            "=================================================================\n",
            "Total params: 7,850\n",
            "Trainable params: 7,850\n",
            "Non-trainable params: 0\n",
            "_________________________________________________________________\n"
          ],
          "name": "stdout"
        }
      ]
    },
    {
      "metadata": {
        "id": "4CoIk0H1BCyo",
        "colab_type": "text"
      },
      "cell_type": "markdown",
      "source": [
        "### Compiling the network"
      ]
    },
    {
      "metadata": {
        "id": "7eKitTIzgxMS",
        "colab_type": "code",
        "colab": {}
      },
      "cell_type": "code",
      "source": [
        "network.compile(optimizer='sgd',\n",
        "                loss='categorical_crossentropy',\n",
        "                metrics=['accuracy'])"
      ],
      "execution_count": 0,
      "outputs": []
    },
    {
      "metadata": {
        "id": "xMCckksyBFh4",
        "colab_type": "text"
      },
      "cell_type": "markdown",
      "source": [
        "### Training the network"
      ]
    },
    {
      "metadata": {
        "id": "BJkXOR22jn77",
        "colab_type": "code",
        "outputId": "06fca9e3-d04a-4493-cbcd-4fdf9414a453",
        "colab": {
          "base_uri": "https://localhost:8080/",
          "height": 470
        }
      },
      "cell_type": "code",
      "source": [
        "epochs = 10\n",
        "network.fit(flat_x_train, \n",
        "            y_train_cat, \n",
        "            epochs=epochs, \n",
        "            batch_size=32, \n",
        "            validation_data=(flat_x_test, y_test_cat))"
      ],
      "execution_count": 0,
      "outputs": [
        {
          "output_type": "stream",
          "text": [
            "WARNING:tensorflow:From /usr/local/lib/python3.6/dist-packages/tensorflow/python/ops/math_ops.py:3066: to_int32 (from tensorflow.python.ops.math_ops) is deprecated and will be removed in a future version.\n",
            "Instructions for updating:\n",
            "Use tf.cast instead.\n",
            "Train on 60000 samples, validate on 10000 samples\n",
            "Epoch 1/10\n",
            "60000/60000 [==============================] - 9s 153us/step - loss: 0.7809 - acc: 0.8145 - val_loss: 0.4785 - val_acc: 0.8799\n",
            "Epoch 2/10\n",
            "60000/60000 [==============================] - 6s 108us/step - loss: 0.4565 - acc: 0.8806 - val_loss: 0.3980 - val_acc: 0.8955\n",
            "Epoch 3/10\n",
            "60000/60000 [==============================] - 6s 105us/step - loss: 0.4034 - acc: 0.8916 - val_loss: 0.3665 - val_acc: 0.9023\n",
            "Epoch 4/10\n",
            "60000/60000 [==============================] - 6s 105us/step - loss: 0.3769 - acc: 0.8969 - val_loss: 0.3470 - val_acc: 0.9060\n",
            "Epoch 5/10\n",
            "60000/60000 [==============================] - 6s 105us/step - loss: 0.3600 - acc: 0.9008 - val_loss: 0.3349 - val_acc: 0.9090\n",
            "Epoch 6/10\n",
            "60000/60000 [==============================] - 6s 105us/step - loss: 0.3483 - acc: 0.9032 - val_loss: 0.3261 - val_acc: 0.9114\n",
            "Epoch 7/10\n",
            "60000/60000 [==============================] - 6s 105us/step - loss: 0.3394 - acc: 0.9052 - val_loss: 0.3191 - val_acc: 0.9124\n",
            "Epoch 8/10\n",
            "60000/60000 [==============================] - 6s 104us/step - loss: 0.3322 - acc: 0.9075 - val_loss: 0.3130 - val_acc: 0.9128\n",
            "Epoch 9/10\n",
            "60000/60000 [==============================] - 6s 104us/step - loss: 0.3264 - acc: 0.9091 - val_loss: 0.3095 - val_acc: 0.9145\n",
            "Epoch 10/10\n",
            "60000/60000 [==============================] - 6s 104us/step - loss: 0.3214 - acc: 0.9101 - val_loss: 0.3057 - val_acc: 0.9149\n"
          ],
          "name": "stdout"
        },
        {
          "output_type": "execute_result",
          "data": {
            "text/plain": [
              "<keras.callbacks.History at 0x7f8c52578be0>"
            ]
          },
          "metadata": {
            "tags": []
          },
          "execution_count": 20
        }
      ]
    },
    {
      "metadata": {
        "id": "vauExO-liknz",
        "colab_type": "text"
      },
      "cell_type": "markdown",
      "source": [
        "# Problem 5\n",
        "## Extending the network from Problem 4 by adding new features"
      ]
    },
    {
      "metadata": {
        "id": "1N_QQrANwTE0",
        "colab_type": "text"
      },
      "cell_type": "markdown",
      "source": [
        "### Methods for extracting features"
      ]
    },
    {
      "metadata": {
        "id": "10V6ru699NUo",
        "colab_type": "code",
        "colab": {}
      },
      "cell_type": "code",
      "source": [
        "def round_grey_values(original_image):\n",
        "  return np.round(original_image / 255).astype(int)\n",
        "\n",
        "# Get number of white regions for an image (Threshold = 100)\n",
        "def num_white_regions(original_image):\n",
        "  image = np.copy(original_image)\n",
        "  num_regions = 0\n",
        "  \n",
        "  for i in range(len(image)):\n",
        "    for j in range(len(image[i])):\n",
        "      if image[i,j] == 1:\n",
        "        num_regions += 1\n",
        "        visit_region(image, i, j)\n",
        "        \n",
        "  return num_regions\n",
        "\n",
        "# num_white_regions() helper function\n",
        "def visit_region(image, i, j):\n",
        "  if (i < 0 or j < 0 or i >= len(image)\n",
        "      or j >= len(image[0]) or image[i,j] == 0):\n",
        "    return\n",
        "  \n",
        "  image[i,j] = 0\n",
        "  visit_region(image, i + 1, j)\n",
        "  visit_region(image, i - 1, j)\n",
        "  visit_region(image, i, j + 1)\n",
        "  visit_region(image, i, j - 1)\n",
        "\n",
        "def digit_width(image):\n",
        "  min_x = len(image)\n",
        "  max_x = 0\n",
        "  \n",
        "  for i in range(len(image)):\n",
        "    min_x = min(np.argmax(image[i]), min_x)\n",
        "    max_x = max(np.argmax(np.flip(image[i], 0)), max_x)\n",
        "  \n",
        "  return max_x - min_x\n",
        "\n",
        "def digit_height(image):\n",
        "  return digit_width(image.T)\n",
        "\n",
        "def digit_area(image):\n",
        "  return np.sum(image)"
      ],
      "execution_count": 0,
      "outputs": []
    },
    {
      "metadata": {
        "colab_type": "text",
        "id": "R-EStuwyRVpq"
      },
      "cell_type": "markdown",
      "source": [
        "### Extract number of white regions from image"
      ]
    },
    {
      "metadata": {
        "id": "Et5hS1awqOXS",
        "colab_type": "code",
        "colab": {}
      },
      "cell_type": "code",
      "source": [
        "num_regions_train = []\n",
        "num_regions_test = []\n",
        "\n",
        "for image in range(len(x_train)):\n",
        "  num_regions_train.append(num_white_regions(x_train[image]))\n",
        "  \n",
        "for image in range(len(x_test)):\n",
        "  num_regions_test.append(num_white_regions(x_test[image]))\n",
        "  \n",
        "num_regions_train = np.array(num_regions_train)\n",
        "num_regions_test = np.array(num_regions_test)"
      ],
      "execution_count": 0,
      "outputs": []
    },
    {
      "metadata": {
        "id": "bCR97A1hQBHq",
        "colab_type": "text"
      },
      "cell_type": "markdown",
      "source": [
        "### Extract white regions, digit height, width and area from image"
      ]
    },
    {
      "metadata": {
        "id": "m-lfv7lYP-s5",
        "colab_type": "code",
        "colab": {}
      },
      "cell_type": "code",
      "source": [
        "digit_width_train = []\n",
        "digit_width_test = []\n",
        "digit_height_train = []\n",
        "digit_height_test = []\n",
        "digit_area_train = []\n",
        "digit_area_test = []\n",
        "\n",
        "for image in range(len(x_train)):\n",
        "  digit_width_train.append(digit_width(x_train[image]))\n",
        "  digit_height_train.append(digit_height(x_train[image]))\n",
        "  digit_area_train.append(digit_area(x_train[image]))\n",
        "  \n",
        "for image in range(len(x_test)):\n",
        "  digit_width_test.append(digit_width(x_test[image]))\n",
        "  digit_height_test.append(digit_height(x_test[image]))\n",
        "  digit_area_test.append(digit_area(x_test[image]))\n",
        "  \n",
        "digit_width_train = np.array(digit_width_train)\n",
        "digit_width_test = np.array(digit_width_test)\n",
        "\n",
        "digit_height_train = np.array(digit_height_train)\n",
        "digit_height_test = np.array(digit_height_test)\n",
        "\n",
        "digit_area_train = np.array(digit_area_train)\n",
        "digit_area_test = np.array(digit_area_test)"
      ],
      "execution_count": 0,
      "outputs": []
    },
    {
      "metadata": {
        "id": "3OtU_glglrLZ",
        "colab_type": "text"
      },
      "cell_type": "markdown",
      "source": [
        "### Feature scale engineered data"
      ]
    },
    {
      "metadata": {
        "id": "KJmc6C_aR-D8",
        "colab_type": "code",
        "colab": {}
      },
      "cell_type": "code",
      "source": [
        "# Find max and mins of train and test\n",
        "num_regions_min = min(np.min(num_regions_train), np.min(num_regions_test))\n",
        "num_regions_max = max(np.max(num_regions_train), np.max(num_regions_test))\n",
        "\n",
        "digit_width_min = min(np.min(digit_width_train), np.min(digit_width_test))\n",
        "digit_width_max = max(np.max(digit_width_train), np.max(digit_width_test))\n",
        "\n",
        "digit_height_min = min(np.min(digit_height_train), np.min(digit_height_test))\n",
        "digit_height_max = max(np.max(digit_height_train), np.max(digit_height_test))\n",
        "\n",
        "digit_area_min = min(np.min(digit_area_train), np.min(digit_area_test))\n",
        "digit_area_max = max(np.max(digit_area_train), np.max(digit_area_test))\n",
        "\n",
        "\n",
        "# Use found max and mins to feature scale\n",
        "num_regions_train = num_regions_train - num_regions_min\n",
        "num_regions_train = num_regions_train / num_regions_max\n",
        "\n",
        "num_regions_test = num_regions_test - num_regions_min\n",
        "num_regions_test = num_regions_test / num_regions_max\n",
        "\n",
        "digit_width_train = digit_width_train - digit_width_min\n",
        "digit_width_train = digit_width_train / digit_width_max\n",
        "\n",
        "digit_width_test = digit_width_test - digit_height_min\n",
        "digit_width_test = digit_width_test / digit_height_max\n",
        "\n",
        "digit_height_train = digit_height_train - digit_height_min\n",
        "digit_height_train = digit_height_train / digit_height_max\n",
        "\n",
        "digit_height_test = digit_height_test - digit_height_min\n",
        "digit_height_test = digit_height_test / digit_height_max\n",
        "\n",
        "digit_area_train = digit_area_train - digit_area_min\n",
        "digit_area_train = digit_area_train / digit_area_max\n",
        "\n",
        "digit_area_test = digit_area_test - digit_area_min\n",
        "digit_area_test = digit_area_test / digit_area_max"
      ],
      "execution_count": 0,
      "outputs": []
    },
    {
      "metadata": {
        "id": "uS7m2hkKvLLp",
        "colab_type": "text"
      },
      "cell_type": "markdown",
      "source": [
        "### Stack flattened image on top of engineered features"
      ]
    },
    {
      "metadata": {
        "id": "RhI4_Qh-Wbgw",
        "colab_type": "code",
        "colab": {}
      },
      "cell_type": "code",
      "source": [
        "engineered_features_train = np.array([num_regions_train, \n",
        "                                      digit_width_train, \n",
        "                                      digit_height_train, \n",
        "                                      digit_area_train])\n",
        "engineered_features_test = np.array([num_regions_test, \n",
        "                                     digit_width_test, \n",
        "                                     digit_height_test, \n",
        "                                     digit_area_test])"
      ],
      "execution_count": 0,
      "outputs": []
    },
    {
      "metadata": {
        "id": "TzfATotupJAO",
        "colab_type": "code",
        "colab": {}
      },
      "cell_type": "code",
      "source": [
        "flat_x_train2 = []\n",
        "flat_x_test2 = []\n",
        "\n",
        "for i in range(len(flat_x_train)):\n",
        "  flat_x_train2.append(np.append(flat_x_train[i], engineered_features_train[:,i]))\n",
        "  \n",
        "for i in range(len(flat_x_test)):\n",
        "  flat_x_test2.append(np.append(flat_x_test[i], engineered_features_test[:,i]))\n",
        "  \n",
        "flat_x_train2 = np.array(flat_x_train2)\n",
        "flat_x_test2 = np.array(flat_x_test2)"
      ],
      "execution_count": 0,
      "outputs": []
    },
    {
      "metadata": {
        "id": "ZpPbWgEWvdX5",
        "colab_type": "text"
      },
      "cell_type": "markdown",
      "source": [
        "### Setting up the network architecture"
      ]
    },
    {
      "metadata": {
        "id": "e3MRAzTDlFYH",
        "colab_type": "code",
        "outputId": "f2f93072-c7ac-4f18-d1bd-e575e0de952f",
        "colab": {
          "base_uri": "https://localhost:8080/",
          "height": 173
        }
      },
      "cell_type": "code",
      "source": [
        "network2 = models.Sequential()\n",
        "network2.add(layers.Dense(10, activation='softmax', input_shape=(28 * 28 + 4,)))\n",
        "network2.summary()"
      ],
      "execution_count": 0,
      "outputs": [
        {
          "output_type": "stream",
          "text": [
            "_________________________________________________________________\n",
            "Layer (type)                 Output Shape              Param #   \n",
            "=================================================================\n",
            "dense_2 (Dense)              (None, 10)                7890      \n",
            "=================================================================\n",
            "Total params: 7,890\n",
            "Trainable params: 7,890\n",
            "Non-trainable params: 0\n",
            "_________________________________________________________________\n"
          ],
          "name": "stdout"
        }
      ]
    },
    {
      "metadata": {
        "id": "rlCkbagbvorT",
        "colab_type": "text"
      },
      "cell_type": "markdown",
      "source": [
        "### Compiling the network"
      ]
    },
    {
      "metadata": {
        "id": "DAGkUYH4lLUR",
        "colab_type": "code",
        "colab": {}
      },
      "cell_type": "code",
      "source": [
        "network2.compile(optimizer='sgd',\n",
        "                loss='categorical_crossentropy',\n",
        "                metrics=['accuracy'])"
      ],
      "execution_count": 0,
      "outputs": []
    },
    {
      "metadata": {
        "id": "wxpwygY1vrzw",
        "colab_type": "text"
      },
      "cell_type": "markdown",
      "source": [
        "### Training the network"
      ]
    },
    {
      "metadata": {
        "id": "k8w00hYTlPcr",
        "colab_type": "code",
        "outputId": "79a0ab95-b4c3-4012-fbbe-55db037450d5",
        "colab": {
          "base_uri": "https://localhost:8080/",
          "height": 398
        }
      },
      "cell_type": "code",
      "source": [
        "epochs = 10\n",
        "network2.fit(flat_x_train2, \n",
        "            y_train_cat, \n",
        "            epochs=epochs, \n",
        "            batch_size=32, \n",
        "            validation_data=(flat_x_test2, y_test_cat))"
      ],
      "execution_count": 0,
      "outputs": [
        {
          "output_type": "stream",
          "text": [
            "Train on 60000 samples, validate on 10000 samples\n",
            "Epoch 1/10\n",
            "60000/60000 [==============================] - 7s 113us/step - loss: 0.7810 - acc: 0.8152 - val_loss: 0.4762 - val_acc: 0.8845\n",
            "Epoch 2/10\n",
            "60000/60000 [==============================] - 6s 104us/step - loss: 0.4533 - acc: 0.8816 - val_loss: 0.3961 - val_acc: 0.8981\n",
            "Epoch 3/10\n",
            "60000/60000 [==============================] - 6s 105us/step - loss: 0.4003 - acc: 0.8925 - val_loss: 0.3635 - val_acc: 0.9029\n",
            "Epoch 4/10\n",
            "60000/60000 [==============================] - 6s 104us/step - loss: 0.3740 - acc: 0.8973 - val_loss: 0.3451 - val_acc: 0.9086\n",
            "Epoch 5/10\n",
            "60000/60000 [==============================] - 6s 105us/step - loss: 0.3574 - acc: 0.9013 - val_loss: 0.3337 - val_acc: 0.9102\n",
            "Epoch 6/10\n",
            "60000/60000 [==============================] - 6s 104us/step - loss: 0.3457 - acc: 0.9042 - val_loss: 0.3241 - val_acc: 0.9123\n",
            "Epoch 7/10\n",
            "60000/60000 [==============================] - 6s 104us/step - loss: 0.3369 - acc: 0.9061 - val_loss: 0.3171 - val_acc: 0.9124\n",
            "Epoch 8/10\n",
            "60000/60000 [==============================] - 6s 105us/step - loss: 0.3298 - acc: 0.9083 - val_loss: 0.3123 - val_acc: 0.9140\n",
            "Epoch 9/10\n",
            "60000/60000 [==============================] - 6s 105us/step - loss: 0.3242 - acc: 0.9098 - val_loss: 0.3085 - val_acc: 0.9146\n",
            "Epoch 10/10\n",
            "60000/60000 [==============================] - 6s 104us/step - loss: 0.3194 - acc: 0.9114 - val_loss: 0.3050 - val_acc: 0.9162\n"
          ],
          "name": "stdout"
        },
        {
          "output_type": "execute_result",
          "data": {
            "text/plain": [
              "<keras.callbacks.History at 0x7f8c4a4c6048>"
            ]
          },
          "metadata": {
            "tags": []
          },
          "execution_count": 29
        }
      ]
    }
  ]
}